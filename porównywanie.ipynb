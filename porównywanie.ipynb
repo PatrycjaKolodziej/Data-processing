{
  "nbformat": 4,
  "nbformat_minor": 0,
  "metadata": {
    "colab": {
      "provenance": [],
      "authorship_tag": "ABX9TyMagLoHzmh3T5pq4fGZy4Ob"
    },
    "kernelspec": {
      "name": "python3",
      "display_name": "Python 3"
    },
    "language_info": {
      "name": "python"
    }
  },
  "cells": [
    {
      "cell_type": "markdown",
      "source": [
        "**1. Porównywanie pd.Series**\n",
        "\n",
        "Utwórz dwa obiekty typu `pd.Series`, zawierające 100 wartości 0 lub 1. Wykorzystaj w tym celu generator liczb losowych z biblioteki `NumPy` np.`random.randint`.\n",
        "\n",
        "Następnie wyświetl wszystkie indeksy, na których wartości w obu Series się zgadzają."
      ],
      "metadata": {
        "id": "tpbEw8YGE60m"
      }
    },
    {
      "cell_type": "code",
      "execution_count": null,
      "metadata": {
        "id": "gGwMsrxwEuGG"
      },
      "outputs": [],
      "source": [
        "import numpy as np\n",
        "import pandas as pd"
      ]
    },
    {
      "cell_type": "code",
      "source": [
        "a = pd.Series(np.random.randint(2, size=100))\n",
        "b = pd.Series(np.random.randint(2, size=100))\n",
        "a[a == b].index"
      ],
      "metadata": {
        "colab": {
          "base_uri": "https://localhost:8080/"
        },
        "id": "ifYfHcw5FW7t",
        "outputId": "93115764-1f57-4114-d87e-beec6dee9796"
      },
      "execution_count": null,
      "outputs": [
        {
          "output_type": "execute_result",
          "data": {
            "text/plain": [
              "Int64Index([ 0,  1,  2,  7,  9, 10, 11, 12, 14, 18, 19, 21, 24, 29, 30, 33, 34,\n",
              "            35, 41, 42, 44, 47, 48, 50, 51, 52, 53, 55, 57, 59, 61, 62, 63, 68,\n",
              "            69, 70, 72, 76, 77, 78, 79, 82, 83, 86, 89, 92, 94, 95, 96, 97, 98,\n",
              "            99],\n",
              "           dtype='int64')"
            ]
          },
          "metadata": {},
          "execution_count": 2
        }
      ]
    },
    {
      "cell_type": "code",
      "source": [
        "a"
      ],
      "metadata": {
        "colab": {
          "base_uri": "https://localhost:8080/"
        },
        "id": "j9Wxm2GZFjij",
        "outputId": "a4c885f3-de46-41f4-be3f-8eb4a5905cd9"
      },
      "execution_count": null,
      "outputs": [
        {
          "output_type": "execute_result",
          "data": {
            "text/plain": [
              "0     0\n",
              "1     0\n",
              "2     0\n",
              "3     0\n",
              "4     0\n",
              "     ..\n",
              "95    1\n",
              "96    0\n",
              "97    0\n",
              "98    0\n",
              "99    1\n",
              "Length: 100, dtype: int64"
            ]
          },
          "metadata": {},
          "execution_count": 3
        }
      ]
    },
    {
      "cell_type": "code",
      "source": [
        "b"
      ],
      "metadata": {
        "colab": {
          "base_uri": "https://localhost:8080/"
        },
        "id": "-rmtTkh8FlS9",
        "outputId": "5878cc6a-db9c-433b-86d5-4f2eb7096e13"
      },
      "execution_count": null,
      "outputs": [
        {
          "output_type": "execute_result",
          "data": {
            "text/plain": [
              "0     0\n",
              "1     0\n",
              "2     0\n",
              "3     1\n",
              "4     1\n",
              "     ..\n",
              "95    1\n",
              "96    0\n",
              "97    0\n",
              "98    0\n",
              "99    1\n",
              "Length: 100, dtype: int64"
            ]
          },
          "metadata": {},
          "execution_count": 4
        }
      ]
    }
  ]
}