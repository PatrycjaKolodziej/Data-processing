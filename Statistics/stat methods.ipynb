{
  "cells": [
    {
      "cell_type": "code",
      "source": [
        "# https://numpy.org/doc/stable/user/index.html\n",
        "import numpy as np"
      ],
      "metadata": {
        "id": "WyN4Ps3H-mjE"
      },
      "execution_count": 6,
      "outputs": []
    },
    {
      "cell_type": "code",
      "source": [
        "wektor = np.array([1, 2, 3])\n",
        "wektor"
      ],
      "metadata": {
        "colab": {
          "base_uri": "https://localhost:8080/"
        },
        "id": "CMjjYHsqDbzV",
        "outputId": "8914ee31-a1b7-4e38-e32c-3946d2d9e21a"
      },
      "execution_count": null,
      "outputs": [
        {
          "output_type": "execute_result",
          "data": {
            "text/plain": [
              "array([1, 2, 3])"
            ]
          },
          "metadata": {},
          "execution_count": 3
        }
      ]
    },
    {
      "cell_type": "code",
      "source": [
        "lista1 = [4, 5, 6]\n",
        "wektor = np.array([lista1])"
      ],
      "metadata": {
        "id": "qeI3nCALDqXy"
      },
      "execution_count": null,
      "outputs": []
    },
    {
      "cell_type": "code",
      "source": [
        "wektor"
      ],
      "metadata": {
        "colab": {
          "base_uri": "https://localhost:8080/"
        },
        "id": "KPvffLZ0EQOW",
        "outputId": "13cb8f1d-ac37-4a40-dfd2-668c71d68728"
      },
      "execution_count": null,
      "outputs": [
        {
          "output_type": "execute_result",
          "data": {
            "text/plain": [
              "array([[4, 5, 6]])"
            ]
          },
          "metadata": {},
          "execution_count": 8
        }
      ]
    },
    {
      "cell_type": "code",
      "source": [
        "wektor_kolumnowy = np.array([[1], [2], [3]])\n",
        "wektor_kolumnowy"
      ],
      "metadata": {
        "colab": {
          "base_uri": "https://localhost:8080/"
        },
        "id": "qu8l52whETYv",
        "outputId": "44de1c1f-1a33-40e6-d9f0-76bb95378ab2"
      },
      "execution_count": null,
      "outputs": [
        {
          "output_type": "execute_result",
          "data": {
            "text/plain": [
              "array([[1],\n",
              "       [2],\n",
              "       [3]])"
            ]
          },
          "metadata": {},
          "execution_count": 10
        }
      ]
    },
    {
      "cell_type": "code",
      "source": [
        "macierz = np.array([[1, 2, 3], [4, 5, 6]])\n",
        "macierz"
      ],
      "metadata": {
        "colab": {
          "base_uri": "https://localhost:8080/"
        },
        "id": "AM1n3yGrHqrV",
        "outputId": "82bb8b5b-7325-47e8-a1fc-04e7df884df3"
      },
      "execution_count": null,
      "outputs": [
        {
          "output_type": "execute_result",
          "data": {
            "text/plain": [
              "array([[1, 2, 3],\n",
              "       [4, 5, 6]])"
            ]
          },
          "metadata": {},
          "execution_count": 11
        }
      ]
    },
    {
      "cell_type": "code",
      "source": [
        "np.arange(10)"
      ],
      "metadata": {
        "colab": {
          "base_uri": "https://localhost:8080/"
        },
        "id": "K4cn13PXH6Yz",
        "outputId": "8bdee1b6-620d-4585-b940-c9f49a36da0a"
      },
      "execution_count": null,
      "outputs": [
        {
          "output_type": "execute_result",
          "data": {
            "text/plain": [
              "array([0, 1, 2, 3, 4, 5, 6, 7, 8, 9])"
            ]
          },
          "metadata": {},
          "execution_count": 13
        }
      ]
    },
    {
      "cell_type": "code",
      "source": [
        "np.arange(2, 12, 2)"
      ],
      "metadata": {
        "colab": {
          "base_uri": "https://localhost:8080/"
        },
        "id": "151XgnqLIh1u",
        "outputId": "6ac2e56c-92f0-416a-a720-e12915b0a06d"
      },
      "execution_count": null,
      "outputs": [
        {
          "output_type": "execute_result",
          "data": {
            "text/plain": [
              "array([ 2,  4,  6,  8, 10])"
            ]
          },
          "metadata": {},
          "execution_count": 14
        }
      ]
    },
    {
      "cell_type": "code",
      "source": [
        "np.linspace(1, 10, 3)"
      ],
      "metadata": {
        "colab": {
          "base_uri": "https://localhost:8080/"
        },
        "id": "cjYVuqk7JwDD",
        "outputId": "9af88258-2ee8-4a22-918b-6ea29951ff9e"
      },
      "execution_count": null,
      "outputs": [
        {
          "output_type": "execute_result",
          "data": {
            "text/plain": [
              "array([ 1. ,  5.5, 10. ])"
            ]
          },
          "metadata": {},
          "execution_count": 15
        }
      ]
    },
    {
      "cell_type": "code",
      "source": [
        "# podsumowanie \n",
        "# w jaki sposób tworzymy wektory:\n",
        "# np.array()      # wiemy jaki chcemy wektor dokładnie\n",
        "# np.arange()     # wiemy jakie chcemy wartości wektora (ale niekoniecznie ile ma ich być)\n",
        "# np.linspace()  # wiemy ile chcemy elementów, niekoniecznie jakie mają mieć wartości"
      ],
      "metadata": {
        "id": "LUjODrcmIrjB"
      },
      "execution_count": null,
      "outputs": []
    },
    {
      "cell_type": "code",
      "source": [
        "macierz = np.array([\n",
        "    np.linspace(100, 333, 5),\n",
        "    np.linspace(467, 874, 5),\n",
        "    np.linspace(250, 550, 5)\n",
        "])\n",
        "macierz"
      ],
      "metadata": {
        "colab": {
          "base_uri": "https://localhost:8080/"
        },
        "id": "5NSs2os9Ji2v",
        "outputId": "5b6df40e-b1e2-454d-a0fb-5d8e1ac8b033"
      },
      "execution_count": null,
      "outputs": [
        {
          "output_type": "execute_result",
          "data": {
            "text/plain": [
              "array([[100.  , 158.25, 216.5 , 274.75, 333.  ],\n",
              "       [467.  , 568.75, 670.5 , 772.25, 874.  ],\n",
              "       [250.  , 325.  , 400.  , 475.  , 550.  ]])"
            ]
          },
          "metadata": {},
          "execution_count": 16
        }
      ]
    },
    {
      "cell_type": "code",
      "source": [
        "macierz.shape"
      ],
      "metadata": {
        "colab": {
          "base_uri": "https://localhost:8080/"
        },
        "id": "aw9WveN6K6oj",
        "outputId": "1e809f5b-694f-419d-f9e4-9f2d0d07a873"
      },
      "execution_count": null,
      "outputs": [
        {
          "output_type": "execute_result",
          "data": {
            "text/plain": [
              "(3, 5)"
            ]
          },
          "metadata": {},
          "execution_count": 17
        }
      ]
    },
    {
      "cell_type": "code",
      "source": [
        "macierz.size    # rozmiar, czyli iloczyn wymiarów"
      ],
      "metadata": {
        "colab": {
          "base_uri": "https://localhost:8080/"
        },
        "id": "BGTnLhKALDnE",
        "outputId": "2fcbc81f-d659-421c-f6b0-b89cbb6e7d01"
      },
      "execution_count": null,
      "outputs": [
        {
          "output_type": "execute_result",
          "data": {
            "text/plain": [
              "15"
            ]
          },
          "metadata": {},
          "execution_count": 18
        }
      ]
    },
    {
      "cell_type": "code",
      "source": [
        "macierz.ndim    # liczba wymiarów"
      ],
      "metadata": {
        "colab": {
          "base_uri": "https://localhost:8080/"
        },
        "id": "DZZHsf7YLXv9",
        "outputId": "a7ae2356-f27a-4cfa-8b10-d10fca1efa11"
      },
      "execution_count": null,
      "outputs": [
        {
          "output_type": "execute_result",
          "data": {
            "text/plain": [
              "2"
            ]
          },
          "metadata": {},
          "execution_count": 19
        }
      ]
    },
    {
      "cell_type": "code",
      "source": [
        "macierz"
      ],
      "metadata": {
        "colab": {
          "base_uri": "https://localhost:8080/"
        },
        "id": "bzeMwhcrNNUi",
        "outputId": "ad1d1c26-7718-4579-fa1a-cacae8bd8b00"
      },
      "execution_count": null,
      "outputs": [
        {
          "output_type": "execute_result",
          "data": {
            "text/plain": [
              "array([[100.  , 158.25, 216.5 , 274.75, 333.  ],\n",
              "       [467.  , 568.75, 670.5 , 772.25, 874.  ],\n",
              "       [250.  , 325.  , 400.  , 475.  , 550.  ]])"
            ]
          },
          "metadata": {},
          "execution_count": 23
        }
      ]
    },
    {
      "cell_type": "code",
      "source": [
        "wektor"
      ],
      "metadata": {
        "colab": {
          "base_uri": "https://localhost:8080/"
        },
        "id": "3bNnO3M2NPkh",
        "outputId": "266272c6-cd0f-4ebb-f2a4-eb1348b71703"
      },
      "execution_count": null,
      "outputs": [
        {
          "output_type": "execute_result",
          "data": {
            "text/plain": [
              "array([[4, 5, 6]])"
            ]
          },
          "metadata": {},
          "execution_count": 24
        }
      ]
    },
    {
      "cell_type": "code",
      "source": [
        "# Tensor 0D\n",
        "skalar = [1]\n",
        "skalar"
      ],
      "metadata": {
        "colab": {
          "base_uri": "https://localhost:8080/"
        },
        "id": "gReQDWc9NSKj",
        "outputId": "42d3d72c-0f7d-4790-f763-b5436c4bb00c"
      },
      "execution_count": null,
      "outputs": [
        {
          "output_type": "execute_result",
          "data": {
            "text/plain": [
              "[1]"
            ]
          },
          "metadata": {},
          "execution_count": 25
        }
      ]
    },
    {
      "cell_type": "code",
      "source": [
        "# Tensor 1D\n",
        "wektor = [1, 2, 3]\n",
        "wektor"
      ],
      "metadata": {
        "colab": {
          "base_uri": "https://localhost:8080/"
        },
        "id": "lHwOefuENbgZ",
        "outputId": "0e73f5da-fa2d-4495-b2fd-6ddb9891d4a0"
      },
      "execution_count": null,
      "outputs": [
        {
          "output_type": "execute_result",
          "data": {
            "text/plain": [
              "[1, 2, 3]"
            ]
          },
          "metadata": {},
          "execution_count": 26
        }
      ]
    },
    {
      "cell_type": "code",
      "source": [
        "# Tensor 2D, pojawiają się i kolumny i wiersze\n",
        "macierz = np.array([[1, 2, 3], [4, 5, 6]])\n",
        "macierz"
      ],
      "metadata": {
        "colab": {
          "base_uri": "https://localhost:8080/"
        },
        "id": "tSwv3EfuOz4y",
        "outputId": "f3242d80-8c6c-4533-d5aa-426945b8865c"
      },
      "execution_count": null,
      "outputs": [
        {
          "output_type": "execute_result",
          "data": {
            "text/plain": [
              "array([[1, 2, 3],\n",
              "       [4, 5, 6]])"
            ]
          },
          "metadata": {},
          "execution_count": 27
        }
      ]
    },
    {
      "cell_type": "code",
      "source": [
        "macierz = np.array([\n",
        "    np.linspace(100, 333, 5),\n",
        "    np.linspace(467, 874, 5),\n",
        "    np.linspace(250, 550, 5)\n",
        "])\n",
        "macierz"
      ],
      "metadata": {
        "colab": {
          "base_uri": "https://localhost:8080/"
        },
        "id": "dEzLaJGtPG96",
        "outputId": "cae0aded-b43c-4d94-fc3d-1022e22febb0"
      },
      "execution_count": null,
      "outputs": [
        {
          "output_type": "execute_result",
          "data": {
            "text/plain": [
              "array([[100.  , 158.25, 216.5 , 274.75, 333.  ],\n",
              "       [467.  , 568.75, 670.5 , 772.25, 874.  ],\n",
              "       [250.  , 325.  , 400.  , 475.  , 550.  ]])"
            ]
          },
          "metadata": {},
          "execution_count": 28
        }
      ]
    },
    {
      "cell_type": "code",
      "source": [
        "macierz.shape"
      ],
      "metadata": {
        "colab": {
          "base_uri": "https://localhost:8080/"
        },
        "id": "DboWqt0tPNyp",
        "outputId": "a426978d-c2b2-4d66-f8f7-755ea65592a3"
      },
      "execution_count": null,
      "outputs": [
        {
          "output_type": "execute_result",
          "data": {
            "text/plain": [
              "(3, 5)"
            ]
          },
          "metadata": {},
          "execution_count": 29
        }
      ]
    },
    {
      "cell_type": "code",
      "source": [
        "macierz[1][1]   # numeracja od 0"
      ],
      "metadata": {
        "colab": {
          "base_uri": "https://localhost:8080/"
        },
        "id": "gZWJhlEvPQSF",
        "outputId": "e49aa89c-d322-4705-8edf-3ac6ce0a6e88"
      },
      "execution_count": null,
      "outputs": [
        {
          "output_type": "execute_result",
          "data": {
            "text/plain": [
              "568.75"
            ]
          },
          "metadata": {},
          "execution_count": 30
        }
      ]
    },
    {
      "cell_type": "code",
      "source": [
        "macierz[1, 1]   # numeracja od 0"
      ],
      "metadata": {
        "colab": {
          "base_uri": "https://localhost:8080/"
        },
        "id": "3Q0bBOLgPe5p",
        "outputId": "e0415315-927a-48ff-8c56-3fa2cec72ed0"
      },
      "execution_count": null,
      "outputs": [
        {
          "output_type": "execute_result",
          "data": {
            "text/plain": [
              "568.75"
            ]
          },
          "metadata": {},
          "execution_count": 31
        }
      ]
    },
    {
      "cell_type": "code",
      "source": [
        "macierz.shape   # najpierw wiersze potem kolumny"
      ],
      "metadata": {
        "colab": {
          "base_uri": "https://localhost:8080/"
        },
        "id": "7JZkojmDPnEn",
        "outputId": "f6fa69f7-ca02-45af-c4fc-faf4a34ffe74"
      },
      "execution_count": null,
      "outputs": [
        {
          "output_type": "execute_result",
          "data": {
            "text/plain": [
              "(3, 5)"
            ]
          },
          "metadata": {},
          "execution_count": 32
        }
      ]
    },
    {
      "cell_type": "code",
      "source": [
        "macierz[0]"
      ],
      "metadata": {
        "colab": {
          "base_uri": "https://localhost:8080/"
        },
        "id": "JGmti5FwQJH7",
        "outputId": "33dd9ec4-36e5-45ef-d522-d459229b66bc"
      },
      "execution_count": null,
      "outputs": [
        {
          "output_type": "execute_result",
          "data": {
            "text/plain": [
              "array([100.  , 158.25, 216.5 , 274.75, 333.  ])"
            ]
          },
          "metadata": {},
          "execution_count": 33
        }
      ]
    },
    {
      "cell_type": "code",
      "source": [
        "macierz[0, :]"
      ],
      "metadata": {
        "colab": {
          "base_uri": "https://localhost:8080/"
        },
        "id": "xfLTFQ7kQOYd",
        "outputId": "f8469378-7274-44ec-9fcf-7848d8564b0f"
      },
      "execution_count": null,
      "outputs": [
        {
          "output_type": "execute_result",
          "data": {
            "text/plain": [
              "array([100.  , 158.25, 216.5 , 274.75, 333.  ])"
            ]
          },
          "metadata": {},
          "execution_count": 34
        }
      ]
    },
    {
      "cell_type": "code",
      "source": [
        "macierz[:, 0]"
      ],
      "metadata": {
        "colab": {
          "base_uri": "https://localhost:8080/"
        },
        "id": "CAUkO5ojQT9x",
        "outputId": "3d2d7034-c509-4f31-82d1-7b2068c20f47"
      },
      "execution_count": null,
      "outputs": [
        {
          "output_type": "execute_result",
          "data": {
            "text/plain": [
              "array([100., 467., 250.])"
            ]
          },
          "metadata": {},
          "execution_count": 35
        }
      ]
    },
    {
      "cell_type": "code",
      "source": [
        "macierz[:, 2:]"
      ],
      "metadata": {
        "colab": {
          "base_uri": "https://localhost:8080/"
        },
        "id": "2k6nky_1QuX5",
        "outputId": "e5bce8cd-a946-4964-ecf3-3c9401e9af71"
      },
      "execution_count": null,
      "outputs": [
        {
          "output_type": "execute_result",
          "data": {
            "text/plain": [
              "array([[216.5 , 274.75, 333.  ],\n",
              "       [670.5 , 772.25, 874.  ],\n",
              "       [400.  , 475.  , 550.  ]])"
            ]
          },
          "metadata": {},
          "execution_count": 37
        }
      ]
    },
    {
      "cell_type": "code",
      "source": [
        "# dostajemy elementy oznaczone przez \"x\"\n",
        "# [o o x x x]\n",
        "# [o o x x x]\n",
        "# [o o x x x]"
      ],
      "metadata": {
        "id": "o7hqxfu6Q8hj"
      },
      "execution_count": null,
      "outputs": []
    },
    {
      "cell_type": "code",
      "source": [
        "np.random.random()  # losowa liczba zmiennoprzecinkowa z zakresu [0.0, 1.0]"
      ],
      "metadata": {
        "colab": {
          "base_uri": "https://localhost:8080/"
        },
        "id": "cndOi2d6SI8C",
        "outputId": "a6a112a8-8520-4469-d01f-bcd40397ea35"
      },
      "execution_count": null,
      "outputs": [
        {
          "output_type": "execute_result",
          "data": {
            "text/plain": [
              "0.8259730530960576"
            ]
          },
          "metadata": {},
          "execution_count": 38
        }
      ]
    },
    {
      "cell_type": "code",
      "source": [
        "np.random.random(10)"
      ],
      "metadata": {
        "colab": {
          "base_uri": "https://localhost:8080/"
        },
        "id": "p4gIwLF_SPrK",
        "outputId": "06604f7d-5738-4d0e-8557-97f03d6f2c09"
      },
      "execution_count": null,
      "outputs": [
        {
          "output_type": "execute_result",
          "data": {
            "text/plain": [
              "array([0.81010985, 0.11150683, 0.50129917, 0.49132033, 0.5216464 ,\n",
              "       0.54515905, 0.19749483, 0.52739133, 0.7658521 , 0.2472205 ])"
            ]
          },
          "metadata": {},
          "execution_count": 39
        }
      ]
    },
    {
      "cell_type": "code",
      "source": [
        "np.random.random(10).ndim"
      ],
      "metadata": {
        "colab": {
          "base_uri": "https://localhost:8080/"
        },
        "id": "Tqq-GKolSXjJ",
        "outputId": "1cb3af42-52db-4fc2-fd67-81149c6e17bd"
      },
      "execution_count": null,
      "outputs": [
        {
          "output_type": "execute_result",
          "data": {
            "text/plain": [
              "1"
            ]
          },
          "metadata": {},
          "execution_count": 40
        }
      ]
    },
    {
      "cell_type": "code",
      "source": [
        "np.random.normal()  # losowa liczba z rozkładu normalnego https://pl.wikipedia.org/wiki/Rozkład_normlany\n",
        "np.random.uniform() # losowa liczba z roskładu jednostajnego https://pl.wikipedia.org/wiki/Roskład_jednostajny_ciągły"
      ],
      "metadata": {
        "id": "-eQrR-GlSvFB"
      },
      "execution_count": null,
      "outputs": []
    },
    {
      "cell_type": "code",
      "source": [
        "# opcja dla liczb całkowitych, z powtórzeniami \n",
        "np.random.randint(0, 100, size=10)"
      ],
      "metadata": {
        "colab": {
          "base_uri": "https://localhost:8080/"
        },
        "id": "wR3Y7XZFTaPP",
        "outputId": "e51fa962-feb7-4e1b-f940-1b96f0a53f39"
      },
      "execution_count": null,
      "outputs": [
        {
          "output_type": "execute_result",
          "data": {
            "text/plain": [
              "array([ 8, 51, 34,  2, 36, 38, 33, 18, 18,  4])"
            ]
          },
          "metadata": {},
          "execution_count": 41
        }
      ]
    },
    {
      "cell_type": "code",
      "source": [
        "wektor = np.array([20, 17, 67, 456, 100, 6, 12.5])\n",
        "wektor"
      ],
      "metadata": {
        "colab": {
          "base_uri": "https://localhost:8080/"
        },
        "id": "v-1VCkBaTsTj",
        "outputId": "8a243c05-1b75-49aa-d79d-5ee1cc19b0d4"
      },
      "execution_count": null,
      "outputs": [
        {
          "output_type": "execute_result",
          "data": {
            "text/plain": [
              "array([ 20. ,  17. ,  67. , 456. , 100. ,   6. ,  12.5])"
            ]
          },
          "metadata": {},
          "execution_count": 42
        }
      ]
    },
    {
      "cell_type": "code",
      "source": [
        "wektor_wieksze_od_99 = np.where(wektor > 99)\n",
        "wektor_wieksze_od_99"
      ],
      "metadata": {
        "colab": {
          "base_uri": "https://localhost:8080/"
        },
        "id": "gw7y1tdvT78B",
        "outputId": "ac42cd5d-eb66-43d4-b7ea-c4de750ae38e"
      },
      "execution_count": null,
      "outputs": [
        {
          "output_type": "execute_result",
          "data": {
            "text/plain": [
              "(array([3, 4]),)"
            ]
          },
          "metadata": {},
          "execution_count": 43
        }
      ]
    },
    {
      "cell_type": "code",
      "source": [
        "wektor[wektor_wieksze_od_99]"
      ],
      "metadata": {
        "colab": {
          "base_uri": "https://localhost:8080/"
        },
        "id": "qy70RC4TUK2O",
        "outputId": "82437f7f-2f35-4b00-956b-0ec0636c99f7"
      },
      "execution_count": null,
      "outputs": [
        {
          "output_type": "execute_result",
          "data": {
            "text/plain": [
              "array([456., 100.])"
            ]
          },
          "metadata": {},
          "execution_count": 45
        }
      ]
    },
    {
      "cell_type": "code",
      "source": [
        "# Zadanie 1.\n",
        "# Stwórz numpy array z wartościami od 1 do 9, wyświetl, a następnie odwróć tę\n",
        "# tablicę (pierwszy element zostaje ostatnim, itd.)\n",
        "\n",
        "zadanie = np.arange(1, 10)\n",
        "print(zadanie)\n",
        "zadanie = np.flip(zadanie)\n",
        "print(zadanie)"
      ],
      "metadata": {
        "colab": {
          "base_uri": "https://localhost:8080/"
        },
        "id": "YL3AqnRRUTIh",
        "outputId": "9b59b0a4-e68d-49f8-ca6a-bc491cf1f099"
      },
      "execution_count": null,
      "outputs": [
        {
          "output_type": "stream",
          "name": "stdout",
          "text": [
            "[1 2 3 4 5 6 7 8 9]\n",
            "[9 8 7 6 5 4 3 2 1]\n"
          ]
        }
      ]
    },
    {
      "cell_type": "code",
      "source": [
        "zadanie[:-1]"
      ],
      "metadata": {
        "colab": {
          "base_uri": "https://localhost:8080/"
        },
        "id": "rvudKfoWa4in",
        "outputId": "0f3c98f2-21fa-4f1a-de7e-cbfb9546c5fd"
      },
      "execution_count": null,
      "outputs": [
        {
          "output_type": "execute_result",
          "data": {
            "text/plain": [
              "array([9, 8, 7, 6, 5, 4, 3, 2])"
            ]
          },
          "metadata": {},
          "execution_count": 48
        }
      ]
    },
    {
      "cell_type": "code",
      "source": [
        "zadanie[::-1] # https://stackoverflow.com/questions/6771428/most-efficient-way-to-reverse-a-numpy-array"
      ],
      "metadata": {
        "colab": {
          "base_uri": "https://localhost:8080/"
        },
        "id": "HR-Gno43bF_6",
        "outputId": "e5e8e7fb-082b-41c4-e67a-b6361a61e873"
      },
      "execution_count": null,
      "outputs": [
        {
          "output_type": "execute_result",
          "data": {
            "text/plain": [
              "array([1, 2, 3, 4, 5, 6, 7, 8, 9])"
            ]
          },
          "metadata": {},
          "execution_count": 49
        }
      ]
    },
    {
      "cell_type": "code",
      "source": [
        "# np.fliplr(zadanie)  # dla wymiarów >= 2\n",
        "# np.flipud(zadanie)  # dla wymiarów >= 2"
      ],
      "metadata": {
        "id": "iaZSKTwGedfu"
      },
      "execution_count": null,
      "outputs": []
    },
    {
      "cell_type": "code",
      "source": [
        "# Zadanie 2.\n",
        "# Stwórz następujący numpy array: [1, 23, 4, 31, 1, 1, 4, 23, 4, 1];\n",
        "# a następnie wypisz wszystkie unikalne (nie powtarzające się) elementy\n",
        "\n",
        "vector_1 = [1, 23, 4, 31, 1, 1, 4, 23, 4, 1]\n",
        "np_array = np.array(vector_1)\n",
        "np.unique(vector_1)\n",
        "\n",
        "# lub \n",
        "\n",
        "# np_array = np.array(vector_1)\n",
        "# np.unique(np_array)"
      ],
      "metadata": {
        "colab": {
          "base_uri": "https://localhost:8080/"
        },
        "id": "y327tYDKevvj",
        "outputId": "bb4fac77-ce7e-4f5b-9360-b55d871d51e1"
      },
      "execution_count": 7,
      "outputs": [
        {
          "output_type": "execute_result",
          "data": {
            "text/plain": [
              "array([ 1,  4, 23, 31])"
            ]
          },
          "metadata": {},
          "execution_count": 7
        }
      ]
    },
    {
      "cell_type": "code",
      "source": [
        "vector_1"
      ],
      "metadata": {
        "colab": {
          "base_uri": "https://localhost:8080/"
        },
        "id": "Ac3h7F8WfoUw",
        "outputId": "026ea001-aa0a-4736-d48d-99d8061c4c24"
      },
      "execution_count": null,
      "outputs": [
        {
          "output_type": "execute_result",
          "data": {
            "text/plain": [
              "[1, 23, 4, 31, 1, 1, 4, 23, 4, 1]"
            ]
          },
          "metadata": {},
          "execution_count": 51
        }
      ]
    },
    {
      "cell_type": "code",
      "source": [
        "matrix1 = np.array([\n",
        "    [1, 2, 3],\n",
        "    [4, 5, 6],\n",
        "    [7, 8, 9]\n",
        "])\n",
        "\n",
        "matrix2 = np.array([\n",
        "    [10, 10, 10],\n",
        "    [20, 20, 20],\n",
        "    [30, 30, 30]\n",
        "])"
      ],
      "metadata": {
        "id": "VdJZYugQfsth"
      },
      "execution_count": 8,
      "outputs": []
    },
    {
      "cell_type": "code",
      "source": [
        "print(matrix1)"
      ],
      "metadata": {
        "id": "nZXnTK89g8XA",
        "colab": {
          "base_uri": "https://localhost:8080/"
        },
        "outputId": "06f2d5df-85d3-43b5-d4ae-0d961d77c016"
      },
      "execution_count": 9,
      "outputs": [
        {
          "output_type": "stream",
          "name": "stdout",
          "text": [
            "[[1 2 3]\n",
            " [4 5 6]\n",
            " [7 8 9]]\n"
          ]
        }
      ]
    },
    {
      "cell_type": "code",
      "source": [
        "print(matrix2)"
      ],
      "metadata": {
        "id": "on9-o2O8hHqP",
        "colab": {
          "base_uri": "https://localhost:8080/"
        },
        "outputId": "a70ea3a5-ee89-4b65-c5c3-d9134a5b0aa0"
      },
      "execution_count": 10,
      "outputs": [
        {
          "output_type": "stream",
          "name": "stdout",
          "text": [
            "[[10 10 10]\n",
            " [20 20 20]\n",
            " [30 30 30]]\n"
          ]
        }
      ]
    },
    {
      "cell_type": "code",
      "source": [
        "np.add(matrix1, matrix2)"
      ],
      "metadata": {
        "id": "Cgy0SZ8IhSmq",
        "colab": {
          "base_uri": "https://localhost:8080/"
        },
        "outputId": "03db5d1e-c0fa-4ca6-ef19-81965dced03e"
      },
      "execution_count": 11,
      "outputs": [
        {
          "output_type": "execute_result",
          "data": {
            "text/plain": [
              "array([[11, 12, 13],\n",
              "       [24, 25, 26],\n",
              "       [37, 38, 39]])"
            ]
          },
          "metadata": {},
          "execution_count": 11
        }
      ]
    },
    {
      "cell_type": "code",
      "source": [
        "np.subtract(matrix1, matrix2)"
      ],
      "metadata": {
        "id": "Y5tQApDThfaN",
        "colab": {
          "base_uri": "https://localhost:8080/"
        },
        "outputId": "51a6e66d-c46a-4659-9358-51543960dbdd"
      },
      "execution_count": 12,
      "outputs": [
        {
          "output_type": "execute_result",
          "data": {
            "text/plain": [
              "array([[ -9,  -8,  -7],\n",
              "       [-16, -15, -14],\n",
              "       [-23, -22, -21]])"
            ]
          },
          "metadata": {},
          "execution_count": 12
        }
      ]
    },
    {
      "cell_type": "code",
      "source": [
        "matrix1 + matrix2"
      ],
      "metadata": {
        "id": "NBEJVQQShnLD",
        "colab": {
          "base_uri": "https://localhost:8080/"
        },
        "outputId": "4033db64-7cfb-46fd-cbae-2c5d9179415c"
      },
      "execution_count": 14,
      "outputs": [
        {
          "output_type": "execute_result",
          "data": {
            "text/plain": [
              "array([[11, 12, 13],\n",
              "       [24, 25, 26],\n",
              "       [37, 38, 39]])"
            ]
          },
          "metadata": {},
          "execution_count": 14
        }
      ]
    },
    {
      "cell_type": "code",
      "source": [
        "matrix1 - matrix2"
      ],
      "metadata": {
        "id": "U7Fbkws6htr2",
        "colab": {
          "base_uri": "https://localhost:8080/"
        },
        "outputId": "fe11fa54-2b1b-42b6-d04f-077d650e492b"
      },
      "execution_count": 15,
      "outputs": [
        {
          "output_type": "execute_result",
          "data": {
            "text/plain": [
              "array([[ -9,  -8,  -7],\n",
              "       [-16, -15, -14],\n",
              "       [-23, -22, -21]])"
            ]
          },
          "metadata": {},
          "execution_count": 15
        }
      ]
    },
    {
      "cell_type": "code",
      "source": [
        "matrix1 * 10"
      ],
      "metadata": {
        "id": "T8naduTkhxev",
        "colab": {
          "base_uri": "https://localhost:8080/"
        },
        "outputId": "a955bcf8-7ee3-41af-dc29-9cc4e259714f"
      },
      "execution_count": 16,
      "outputs": [
        {
          "output_type": "execute_result",
          "data": {
            "text/plain": [
              "array([[10, 20, 30],\n",
              "       [40, 50, 60],\n",
              "       [70, 80, 90]])"
            ]
          },
          "metadata": {},
          "execution_count": 16
        }
      ]
    },
    {
      "cell_type": "code",
      "source": [
        "matrix1 * np.array([10, 20, 30])"
      ],
      "metadata": {
        "id": "KTxJWZ44h0ow",
        "colab": {
          "base_uri": "https://localhost:8080/"
        },
        "outputId": "4cc8dac5-4857-43a1-8ac9-2c0bf53c9daa"
      },
      "execution_count": 17,
      "outputs": [
        {
          "output_type": "execute_result",
          "data": {
            "text/plain": [
              "array([[ 10,  40,  90],\n",
              "       [ 40, 100, 180],\n",
              "       [ 70, 160, 270]])"
            ]
          },
          "metadata": {},
          "execution_count": 17
        }
      ]
    },
    {
      "cell_type": "code",
      "source": [
        "matrix1.T # Jeśli w macierzt \"i\" to wiersze a \"j\" to kolumny, to element ma index x_(i,j),\n",
        "          # odwrócenie macierzy polega na zamianie \"i\" oraz \"j\" miejscami"
      ],
      "metadata": {
        "id": "UJBZDjjQiB8L",
        "colab": {
          "base_uri": "https://localhost:8080/"
        },
        "outputId": "d9152bcb-c445-4eec-8056-0e0205435138"
      },
      "execution_count": 18,
      "outputs": [
        {
          "output_type": "execute_result",
          "data": {
            "text/plain": [
              "array([[1, 4, 7],\n",
              "       [2, 5, 8],\n",
              "       [3, 6, 9]])"
            ]
          },
          "metadata": {},
          "execution_count": 18
        }
      ]
    },
    {
      "cell_type": "code",
      "source": [
        "# Zadanie 3.\n",
        "# Stwórz macierz 3x3 (używając reshape) z wartościami od 2 do 10\n",
        "\n",
        "my_matrix = np.arange(2, 11, 1)\n",
        "my_matrix = my_matrix.reshape(3, 3)\n",
        "my_matrix\n",
        "# my_matrix.reshape(3,3)"
      ],
      "metadata": {
        "colab": {
          "base_uri": "https://localhost:8080/"
        },
        "id": "9uEgrq05izim",
        "outputId": "24f1cf32-b481-4429-ba26-916431705ec4"
      },
      "execution_count": 20,
      "outputs": [
        {
          "output_type": "execute_result",
          "data": {
            "text/plain": [
              "array([[ 2,  3,  4],\n",
              "       [ 5,  6,  7],\n",
              "       [ 8,  9, 10]])"
            ]
          },
          "metadata": {},
          "execution_count": 20
        }
      ]
    },
    {
      "cell_type": "code",
      "source": [
        "# Zadanie 4. \n",
        "# Stwórz tablicę z sześcioma losowymi wartościami z przedziału od 10 do 30\n",
        "\n",
        "my_matrix = np.random.randint(10, 30, size=6)\n",
        "my_matrix = my_matrix.reshape(2, 3)\n",
        "my_matrix\n",
        "# my_matrix.reshape(2, 3)"
      ],
      "metadata": {
        "colab": {
          "base_uri": "https://localhost:8080/"
        },
        "id": "rVxPVNThoRxo",
        "outputId": "87a6e07e-4180-4478-fb33-f57d27187c27"
      },
      "execution_count": 21,
      "outputs": [
        {
          "output_type": "execute_result",
          "data": {
            "text/plain": [
              "array([[11, 19, 23],\n",
              "       [24, 10, 13]])"
            ]
          },
          "metadata": {},
          "execution_count": 21
        }
      ]
    },
    {
      "cell_type": "code",
      "source": [
        "# Zadanie 5.\n",
        "# Spośród tablicy wartości: [23, 45, 112, 150, 43, 254, 95, 8] wyfiltruj te, \n",
        "# które są większe od 100\n",
        "\n",
        "arr5 = np.array([23, 45, 112, 150, 43, 254, 95, 8])\n",
        "arr5\n",
        "# arr5[np.where(arr5 > 100)]"
      ],
      "metadata": {
        "colab": {
          "base_uri": "https://localhost:8080/"
        },
        "id": "0NtPMypWowpU",
        "outputId": "d89720aa-5ae4-42c7-e1d6-e7b1f6b9993e"
      },
      "execution_count": null,
      "outputs": [
        {
          "output_type": "execute_result",
          "data": {
            "text/plain": [
              "array([ 23,  45, 112, 150,  43, 254,  95,   8])"
            ]
          },
          "metadata": {},
          "execution_count": 62
        }
      ]
    },
    {
      "cell_type": "code",
      "source": [
        "# Zadanie 6. \n",
        "# Stwórz poniższą macierz 4x4, a następnie:\n",
        "# wyświetl element z drugiego wiersza i trzeciej kolumny, \n",
        "# oblicz jej wyznacznik,\n",
        "# oblicz jej ślad (sumę elementów na głównej przekątnej),\n",
        "# znajdź element największy i najmniejszy.\n",
        "\n",
        "matrix = np.array([\n",
        "    [1, 15, 4, 13],\n",
        "    [8, 21, 3, 12],\n",
        "    [11, 13, 11, 5],\n",
        "    [32, 13, 0, 2]\n",
        "])\n",
        "\n",
        "# (a)\n",
        "print(matrix[2][3])\n",
        "\n",
        "print(matrix[1][2]) # cofamy się o 1, bo zaczynamy liczyć od 0\n",
        "print(matrix[1, 2])\n",
        "\n",
        "# (b)\n",
        "print(matrix.diagonal().sum())\n",
        "\n",
        "# (c)\n",
        "print(np.max(matrix), np.min(matrix))"
      ],
      "metadata": {
        "colab": {
          "base_uri": "https://localhost:8080/"
        },
        "id": "P0nVWuXdqAi4",
        "outputId": "5b24cebc-e23d-4547-909b-6d914bec648b"
      },
      "execution_count": null,
      "outputs": [
        {
          "output_type": "stream",
          "name": "stdout",
          "text": [
            "5\n",
            "3\n",
            "3\n",
            "35\n",
            "32 0\n"
          ]
        }
      ]
    },
    {
      "cell_type": "code",
      "source": [
        "# Zadanie 7.\n",
        "# Stwórz dowolną tablicę wartości, a następnie oblicz średnią i medianę\n",
        "\n",
        "matrix = np.array([\n",
        "    [1, 15, 4, 13],\n",
        "    [8, 21, 3, 12],\n",
        "    [11, 13, 11, 5],\n",
        "    [32, 13, 0, 2],\n",
        "])\n",
        "\n",
        "print(matrix.mean())\n",
        "print(np.median(matrix))"
      ],
      "metadata": {
        "colab": {
          "base_uri": "https://localhost:8080/"
        },
        "id": "VDGsDOWdaBya",
        "outputId": "5999ec32-ee51-4b03-dffd-23e94bb381e9"
      },
      "execution_count": 22,
      "outputs": [
        {
          "output_type": "stream",
          "name": "stdout",
          "text": [
            "10.25\n",
            "11.0\n"
          ]
        }
      ]
    },
    {
      "cell_type": "code",
      "source": [
        "# Zadanie 8.\n",
        "# Stwórz dowolną tablicę wartości, a następnie je znormalizuj - tj. od każdego\n",
        "# elementu tablicy odejmij średnią i podziel przez odchylenie standardowe\n",
        "\n",
        "arr = np.random.randint(1, 100, 30).reshape(6, 5)\n",
        "print(arr)\n",
        "arr = (arr - arr.mean()) / np.std(arr)\n",
        "print(arr)\n"
      ],
      "metadata": {
        "colab": {
          "base_uri": "https://localhost:8080/"
        },
        "id": "nuLHwcP5aE90",
        "outputId": "9ea999db-852d-4582-8f7d-4de11fc7c635"
      },
      "execution_count": 23,
      "outputs": [
        {
          "output_type": "stream",
          "name": "stdout",
          "text": [
            "[[34 60 45 49 76]\n",
            " [78 54 58 52 29]\n",
            " [43  9 91 60  4]\n",
            " [33 34 12 68 22]\n",
            " [79 11 50 31 81]\n",
            " [94 89 35 93 54]]\n",
            "[[-0.65102743  0.34858161 -0.22811591 -0.0743299   0.96372564]\n",
            " [ 1.04061864  0.1179026   0.27168861  0.0410096  -0.84325993]\n",
            " [-0.30500891 -1.61218996  1.54042316  0.34858161 -1.80442247]\n",
            " [-0.68947393 -0.65102743 -1.49685046  0.65615363 -1.11238544]\n",
            " [ 1.07906514 -1.53529696 -0.0358834  -0.76636693  1.15595815]\n",
            " [ 1.65576267  1.46353016 -0.61258092  1.61731616  0.1179026 ]]\n"
          ]
        }
      ]
    },
    {
      "cell_type": "code",
      "source": [
        "# Zadanie 9.\n",
        "# Stwórz funkcję, która przyjmuje dwa wektory (oba o tym samym wymiarze) w\n",
        "# postaci numpy tablicy, a zwróci odległość euklidesową między nimi\n",
        "\n",
        "u_1 = np.array([1, 3, 5, 2, 0])\n",
        "u_2 = np.array([6, 3, 1, -1, 2])\n",
        "\n",
        "print(u_1)\n",
        "print(u_2)\n",
        "\n",
        "result = (u_1 - u_2)\n",
        "\n",
        "print(result)\n",
        "\n",
        "result = result**2\n",
        "\n",
        "print(result)\n",
        "\n",
        "result = sum(result)\n",
        "\n",
        "print(result)\n",
        "\n",
        "result = result**1/2\n",
        "\n",
        "print(result)"
      ],
      "metadata": {
        "colab": {
          "base_uri": "https://localhost:8080/"
        },
        "id": "YieYBuvsaJNl",
        "outputId": "6840fc2c-39c6-46cd-9b1a-8e4c46c2a23d"
      },
      "execution_count": 24,
      "outputs": [
        {
          "output_type": "stream",
          "name": "stdout",
          "text": [
            "[1 3 5 2 0]\n",
            "[ 6  3  1 -1  2]\n",
            "[-5  0  4  3 -2]\n",
            "[25  0 16  9  4]\n",
            "54\n",
            "27.0\n"
          ]
        }
      ]
    },
    {
      "cell_type": "code",
      "source": [
        "def euclidian_distance(v1: np.ndarray, v2: np.ndarray) -> float:\n",
        "  return np.sqrt(((v1 - v2) ** 2).sum())"
      ],
      "metadata": {
        "id": "CMBZtTwLaP7A"
      },
      "execution_count": 25,
      "outputs": []
    },
    {
      "cell_type": "code",
      "source": [
        "import numpy as np\n",
        "import scipy.stats as stats"
      ],
      "metadata": {
        "id": "WrTDNjRSaSik"
      },
      "execution_count": 26,
      "outputs": []
    },
    {
      "cell_type": "code",
      "source": [
        "data1 = [5.01, 5.02, 5.00, 4.99, 4.97]\n",
        "data2 = [1.01, 1.02, 8.00, 2.99, 0.97]\n",
        "\n",
        "data1 = np.array(data1)\n",
        "data2 = np.array(data2)\n",
        "\n",
        "print(data1.mean(), data2.mean())"
      ],
      "metadata": {
        "colab": {
          "base_uri": "https://localhost:8080/"
        },
        "id": "LQHE2k-9aUuP",
        "outputId": "07fed405-34f5-4dfe-c2c8-2681a8a842ca"
      },
      "execution_count": 27,
      "outputs": [
        {
          "output_type": "stream",
          "name": "stdout",
          "text": [
            "4.997999999999999 2.7980000000000005\n"
          ]
        }
      ]
    },
    {
      "cell_type": "code",
      "source": [
        "stats.ttest_1samp(data1, popmean=5)"
      ],
      "metadata": {
        "colab": {
          "base_uri": "https://localhost:8080/"
        },
        "id": "DDqle4jOaaSI",
        "outputId": "7a7a748d-f44e-486a-c095-537fcdb0592c"
      },
      "execution_count": 31,
      "outputs": [
        {
          "output_type": "execute_result",
          "data": {
            "text/plain": [
              "TtestResult(statistic=-0.23249527748771723, pvalue=0.8275647196019748, df=4)"
            ]
          },
          "metadata": {},
          "execution_count": 31
        }
      ]
    },
    {
      "cell_type": "code",
      "source": [
        "stats.ttest_1samp(data2, popmean=5)"
      ],
      "metadata": {
        "colab": {
          "base_uri": "https://localhost:8080/"
        },
        "id": "vv9Z9b7Qabey",
        "outputId": "21ec7804-1517-414e-f50a-addd59a8e0b4"
      },
      "execution_count": 29,
      "outputs": [
        {
          "output_type": "execute_result",
          "data": {
            "text/plain": [
              "TtestResult(statistic=-1.6233915217310744, pvalue=0.1798277548227995, df=4)"
            ]
          },
          "metadata": {},
          "execution_count": 29
        }
      ]
    },
    {
      "cell_type": "code",
      "source": [
        "stats.ttest_ind(data1, data2)"
      ],
      "metadata": {
        "colab": {
          "base_uri": "https://localhost:8080/"
        },
        "id": "pFow-jGdadmT",
        "outputId": "9c14b080-ae0d-4d8f-98fb-502125d7da71"
      },
      "execution_count": 30,
      "outputs": [
        {
          "output_type": "execute_result",
          "data": {
            "text/plain": [
              "Ttest_indResult(statistic=1.6218844357980349, pvalue=0.143485567629534)"
            ]
          },
          "metadata": {},
          "execution_count": 30
        }
      ]
    },
    {
      "cell_type": "code",
      "source": [
        "# popmean=5.0\n",
        "# stats.ttest_1samp()"
      ],
      "metadata": {
        "id": "9r0LJb2fajnw"
      },
      "execution_count": null,
      "outputs": []
    },
    {
      "cell_type": "code",
      "source": [
        "data3 = np.arange(1, 100, 1)\n",
        "data3"
      ],
      "metadata": {
        "colab": {
          "base_uri": "https://localhost:8080/"
        },
        "id": "slu0B6LHangQ",
        "outputId": "ca9c5247-29c4-45ce-e520-b274bcd17923"
      },
      "execution_count": 32,
      "outputs": [
        {
          "output_type": "execute_result",
          "data": {
            "text/plain": [
              "array([ 1,  2,  3,  4,  5,  6,  7,  8,  9, 10, 11, 12, 13, 14, 15, 16, 17,\n",
              "       18, 19, 20, 21, 22, 23, 24, 25, 26, 27, 28, 29, 30, 31, 32, 33, 34,\n",
              "       35, 36, 37, 38, 39, 40, 41, 42, 43, 44, 45, 46, 47, 48, 49, 50, 51,\n",
              "       52, 53, 54, 55, 56, 57, 58, 59, 60, 61, 62, 63, 64, 65, 66, 67, 68,\n",
              "       69, 70, 71, 72, 73, 74, 75, 76, 77, 78, 79, 80, 81, 82, 83, 84, 85,\n",
              "       86, 87, 88, 89, 90, 91, 92, 93, 94, 95, 96, 97, 98, 99])"
            ]
          },
          "metadata": {},
          "execution_count": 32
        }
      ]
    },
    {
      "cell_type": "code",
      "source": [
        "stats.normaltest(data3)"
      ],
      "metadata": {
        "colab": {
          "base_uri": "https://localhost:8080/"
        },
        "id": "X9KyFKp_az16",
        "outputId": "5abf4828-8a76-4d83-d678-a23b30759b6b"
      },
      "execution_count": 33,
      "outputs": [
        {
          "output_type": "execute_result",
          "data": {
            "text/plain": [
              "NormaltestResult(statistic=34.173457336415495, pvalue=3.79601592424177e-08)"
            ]
          },
          "metadata": {},
          "execution_count": 33
        }
      ]
    },
    {
      "cell_type": "code",
      "source": [
        "# jeśli p-value < 0.05 to odrzucamy H0 (hipotezę zerową), która mówi, że to jest rozkład normalny\n",
        "# więc nasze dane nie są z rozkładu normalnego"
      ],
      "metadata": {
        "id": "ZCC1rYLia0i6"
      },
      "execution_count": null,
      "outputs": []
    },
    {
      "cell_type": "code",
      "source": [
        "data4 = np.random.normal(size=10000)\n",
        "data4[:10,]"
      ],
      "metadata": {
        "colab": {
          "base_uri": "https://localhost:8080/"
        },
        "id": "7ezSjZPBa3wK",
        "outputId": "72f75529-95ba-48ef-d96b-e6efb94abc34"
      },
      "execution_count": 34,
      "outputs": [
        {
          "output_type": "execute_result",
          "data": {
            "text/plain": [
              "array([ 0.19055467, -0.16602419,  0.63907073, -0.32776958, -0.05542919,\n",
              "        0.80077077,  0.02842018,  1.01653873, -0.80114596, -1.40278415])"
            ]
          },
          "metadata": {},
          "execution_count": 34
        }
      ]
    },
    {
      "cell_type": "code",
      "source": [
        "stats.normaltest(data4)"
      ],
      "metadata": {
        "colab": {
          "base_uri": "https://localhost:8080/"
        },
        "id": "5YfStYwUa5bU",
        "outputId": "a91d01d9-73f6-4550-999d-5572cc7dff30"
      },
      "execution_count": 35,
      "outputs": [
        {
          "output_type": "execute_result",
          "data": {
            "text/plain": [
              "NormaltestResult(statistic=0.9800316578799421, pvalue=0.612616697034746)"
            ]
          },
          "metadata": {},
          "execution_count": 35
        }
      ]
    },
    {
      "cell_type": "code",
      "source": [
        "normal_data = stats.norm.rvs(size=1000)\n",
        "ks_results = stats.kstest(normal_data, 'norm')\n",
        "print(ks_results)"
      ],
      "metadata": {
        "colab": {
          "base_uri": "https://localhost:8080/"
        },
        "id": "ZV9JRYC4a_dz",
        "outputId": "ef35d50f-a17c-4a87-c58c-4ef5e7ff9615"
      },
      "execution_count": 36,
      "outputs": [
        {
          "output_type": "stream",
          "name": "stdout",
          "text": [
            "KstestResult(statistic=0.03911415474806246, pvalue=0.09133443772672034, statistic_location=0.5075461117630584, statistic_sign=-1)\n"
          ]
        }
      ]
    },
    {
      "cell_type": "code",
      "source": [
        "normal_data = stats.norm.rvs(size=1000) \n",
        "shapiro_test_results = stats.shapiro(normal_data)\n",
        "print(shapiro_test_results) "
      ],
      "metadata": {
        "colab": {
          "base_uri": "https://localhost:8080/"
        },
        "id": "UUPGIEKfbGYa",
        "outputId": "07a8cf55-eb24-4920-e0be-ee5e470e6ea3"
      },
      "execution_count": 37,
      "outputs": [
        {
          "output_type": "stream",
          "name": "stdout",
          "text": [
            "ShapiroResult(statistic=0.9985937476158142, pvalue=0.6168428659439087)\n"
          ]
        }
      ]
    },
    {
      "cell_type": "code",
      "source": [
        "stats.levene(data1, data2)"
      ],
      "metadata": {
        "colab": {
          "base_uri": "https://localhost:8080/"
        },
        "id": "5BtjZLRQbJgx",
        "outputId": "4fbd3d97-2141-4b5a-d9c2-b15238fe6923"
      },
      "execution_count": 38,
      "outputs": [
        {
          "output_type": "execute_result",
          "data": {
            "text/plain": [
              "LeveneResult(statistic=1.7580888903553638, pvalue=0.2214699897325906)"
            ]
          },
          "metadata": {},
          "execution_count": 38
        }
      ]
    }
  ],
  "metadata": {
    "colab": {
      "toc_visible": true,
      "provenance": []
    },
    "kernelspec": {
      "display_name": "Python 3",
      "name": "python3"
    }
  },
  "nbformat": 4,
  "nbformat_minor": 0
}
